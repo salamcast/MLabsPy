{
 "cells": [
  {
   "cell_type": "code",
   "execution_count": 1,
   "metadata": {},
   "outputs": [],
   "source": [
    "import MLabsPy as m\n",
    "ML = m.MLabsPy('MLabsPy3.CSV')"
   ]
  },
  {
   "cell_type": "code",
   "execution_count": 2,
   "metadata": {},
   "outputs": [
    {
     "data": {
      "text/plain": [
       "array([['ts', '00:00:23', '00:00:45', ..., '22:59:13', '22:59:35',\n",
       "        '22:59:57'],\n",
       "       ['L1', '128.2', '128.3', ..., '125.7', '125.9', '126.1'],\n",
       "       ['L2', '127.9', '127.9', ..., '123.2', '123.5', '123.8'],\n",
       "       ['L3', '127.2', '127.3', ..., '126.7', '127.0', '127.1']],\n",
       "      dtype='<U32')"
      ]
     },
     "execution_count": 2,
     "metadata": {},
     "output_type": "execute_result"
    }
   ],
   "source": [
    "ML.getCSVdata('v120')"
   ]
  },
  {
   "cell_type": "code",
   "execution_count": null,
   "metadata": {},
   "outputs": [],
   "source": [
    "data = ML.plotData('v120')\n",
    "#PLOT=m.Plot('kAVrh')\n",
    "\n",
    "#PLOT.go(data)"
   ]
  },
  {
   "cell_type": "code",
   "execution_count": null,
   "metadata": {},
   "outputs": [],
   "source": [
    "data = ML.plotData('v120')\n",
    "PLOT=m.Plot('v120')\n",
    "PLOT.go(data)"
   ]
  },
  {
   "cell_type": "code",
   "execution_count": null,
   "metadata": {},
   "outputs": [],
   "source": [
    "data = ML.plotData('v208')\n",
    "PLOT=m.Plot('v208')\n",
    "PLOT.go(data)"
   ]
  },
  {
   "cell_type": "code",
   "execution_count": null,
   "metadata": {},
   "outputs": [],
   "source": [
    "data = ML.plotData('amps')\n",
    "PLOT=m.Plot('amps')\n",
    "PLOT.go(data)"
   ]
  },
  {
   "cell_type": "code",
   "execution_count": null,
   "metadata": {},
   "outputs": [],
   "source": [
    "data = ML.plotData('THDX')\n",
    "PLOT=m.Plot('THDX', 'TEST')\n",
    "PLOT.go(data)\n"
   ]
  },
  {
   "cell_type": "code",
   "execution_count": null,
   "metadata": {},
   "outputs": [],
   "source": [
    "#ML = m.MLabsPy('test.csv')\n",
    "for x in m.Labels.tag:\n",
    "    if x != 'ts':\n",
    "        data = ML.plotData(x)\n",
    "        PLOT=m.Plot(x, 'TEST')\n",
    "        PLOT.go(data)\n"
   ]
  },
  {
   "cell_type": "code",
   "execution_count": null,
   "metadata": {},
   "outputs": [],
   "source": []
  }
 ],
 "metadata": {
  "kernelspec": {
   "display_name": "Python 3",
   "language": "python",
   "name": "python3"
  },
  "language_info": {
   "codemirror_mode": {
    "name": "ipython",
    "version": 3
   },
   "file_extension": ".py",
   "mimetype": "text/x-python",
   "name": "python",
   "nbconvert_exporter": "python",
   "pygments_lexer": "ipython3",
   "version": "3.8.5"
  }
 },
 "nbformat": 4,
 "nbformat_minor": 4
}
